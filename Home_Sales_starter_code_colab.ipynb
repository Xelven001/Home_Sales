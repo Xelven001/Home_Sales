{
  "cells": [
    {
      "cell_type": "code",
      "execution_count": 4,
      "metadata": {
        "colab": {
          "base_uri": "https://localhost:8080/"
        },
        "id": "a_KW73O2e3dw",
        "outputId": "a8ef0cf4-d755-4646-d6ce-ba259006b86a"
      },
      "outputs": [
        {
          "name": "stdout",
          "output_type": "stream",
          "text": [
            "\r0% [Working]\r            \rHit:1 https://cloud.r-project.org/bin/linux/ubuntu jammy-cran40/ InRelease\n",
            "Hit:2 https://developer.download.nvidia.com/compute/cuda/repos/ubuntu2204/x86_64  InRelease\n",
            "Hit:3 http://security.ubuntu.com/ubuntu jammy-security InRelease\n",
            "Hit:4 http://archive.ubuntu.com/ubuntu jammy InRelease\n",
            "Hit:5 http://archive.ubuntu.com/ubuntu jammy-updates InRelease\n",
            "Hit:6 http://archive.ubuntu.com/ubuntu jammy-backports InRelease\n",
            "Hit:7 https://ppa.launchpadcontent.net/c2d4u.team/c2d4u4.0+/ubuntu jammy InRelease\n",
            "Hit:8 https://ppa.launchpadcontent.net/deadsnakes/ppa/ubuntu jammy InRelease\n",
            "Hit:9 https://ppa.launchpadcontent.net/graphics-drivers/ppa/ubuntu jammy InRelease\n",
            "Hit:10 https://ppa.launchpadcontent.net/ubuntugis/ppa/ubuntu jammy InRelease\n",
            "Reading package lists... Done\n"
          ]
        }
      ],
      "source": [
        "import os\n",
        "# Find the latest version of spark 3.x  from http://www.apache.org/dist/spark/ and enter as the spark version\n",
        "# For example:\n",
        "# spark_version = 'spark-3.4.0'\n",
        "spark_version = 'spark-3.5.1'\n",
        "os.environ['SPARK_VERSION']=spark_version\n",
        "\n",
        "# Install Spark and Java\n",
        "!apt-get update\n",
        "!apt-get install openjdk-11-jdk-headless -qq > /dev/null\n",
        "!wget -q http://www.apache.org/dist/spark/$SPARK_VERSION/$SPARK_VERSION-bin-hadoop3.tgz\n",
        "!tar xf $SPARK_VERSION-bin-hadoop3.tgz\n",
        "!pip install -q findspark\n",
        "\n",
        "# Set Environment Variables\n",
        "os.environ[\"JAVA_HOME\"] = \"/usr/lib/jvm/java-11-openjdk-amd64\"\n",
        "os.environ[\"SPARK_HOME\"] = f\"/content/{spark_version}-bin-hadoop3\"\n",
        "\n",
        "# Start a SparkSession\n",
        "import findspark\n",
        "findspark.init()"
      ]
    },
    {
      "cell_type": "code",
      "execution_count": 5,
      "metadata": {
        "id": "2XbWNf1Te5fM"
      },
      "outputs": [],
      "source": [
        "# Import packages\n",
        "from pyspark.sql import SparkSession\n",
        "import time\n",
        "\n",
        "# Create a SparkSession\n",
        "spark = SparkSession.builder.appName(\"SparkSQL\").getOrCreate()"
      ]
    },
    {
      "cell_type": "code",
      "execution_count": 7,
      "metadata": {
        "id": "wOJqxG_RPSwp"
      },
      "outputs": [],
      "source": [
        "# 1. Read in the AWS S3 bucket into a DataFrame.\n",
        "from pyspark import SparkFiles\n",
        "url = \"https://2u-data-curriculum-team.s3.amazonaws.com/dataviz-classroom/v1.2/22-big-data/home_sales_revised.csv\"\n",
        "\n"
      ]
    },
    {
      "cell_type": "code",
      "execution_count": 31,
      "metadata": {
        "id": "RoljcJ7WPpnm"
      },
      "outputs": [],
      "source": [
        "from pyspark.sql import SparkSession\n",
        "from pyspark import SparkFiles\n",
        "\n",
        "spark = SparkSession.builder.appName(\"SparkSQL\").getOrCreate()\n",
        "\n",
        "spark.sparkContext.addFile(url)\n",
        "df = spark.read.csv(\"file://\" + SparkFiles.get(\"home_sales_revised.csv\"), header=True, inferSchema=True)\n",
        "\n",
        "df.createOrReplaceTempView(\"home_sales\")\n",
        "\n"
      ]
    },
    {
      "cell_type": "code",
      "execution_count": 12,
      "metadata": {
        "colab": {
          "base_uri": "https://localhost:8080/"
        },
        "id": "L6fkwOeOmqvq",
        "outputId": "7a22006c-fe88-460c-bef3-2feb82025443"
      },
      "outputs": [
        {
          "name": "stdout",
          "output_type": "stream",
          "text": [
            "+---------+---------+\n",
            "|sale_year|avg_price|\n",
            "+---------+---------+\n",
            "|     2019| 300263.7|\n",
            "|     2020|298353.78|\n",
            "|     2021|301819.44|\n",
            "|     2022|296363.88|\n",
            "+---------+---------+\n",
            "\n"
          ]
        }
      ],
      "source": [
        "# 3. What is the average price for a four bedroom house sold per year, rounded to two decimal places?\n",
        "query = \"\"\"\n",
        "    SELECT\n",
        "        YEAR(date) AS sale_year,\n",
        "        ROUND(AVG(price), 2) AS avg_price\n",
        "    FROM\n",
        "        home_sales\n",
        "    WHERE\n",
        "        bedrooms = 4\n",
        "    GROUP BY\n",
        "        sale_year\n",
        "    ORDER BY\n",
        "        sale_year\n",
        "\"\"\"\n",
        "\n",
        "result = spark.sql(query)\n",
        "\n",
        "result.show()\n",
        "\n"
      ]
    },
    {
      "cell_type": "code",
      "execution_count": 18,
      "metadata": {
        "colab": {
          "base_uri": "https://localhost:8080/"
        },
        "id": "l8p_tUS8h8it",
        "outputId": "cee86a5f-5806-4a9f-ef8a-823bc7adb810"
      },
      "outputs": [
        {
          "name": "stdout",
          "output_type": "stream",
          "text": [
            "+----------+---------+\n",
            "|year_built|avg_price|\n",
            "+----------+---------+\n",
            "|      2010|292859.62|\n",
            "|      2011|291117.47|\n",
            "|      2012|293683.19|\n",
            "|      2013|295962.27|\n",
            "|      2014|290852.27|\n",
            "|      2015| 288770.3|\n",
            "|      2016|290555.07|\n",
            "|      2017|292676.79|\n",
            "+----------+---------+\n",
            "\n"
          ]
        }
      ],
      "source": [
        "# 4. What is the average price of a home for each year the home was built,\n",
        "# that have 3 bedrooms and 3 bathrooms, rounded to two decimal places?\n",
        "\n",
        "query = \"\"\"\n",
        "    SELECT\n",
        "        date_built as year_built,\n",
        "        ROUND(AVG(price), 2) AS avg_price\n",
        "    FROM\n",
        "        home_sales\n",
        "    WHERE\n",
        "        bedrooms = 3\n",
        "    AND bathrooms = 3\n",
        "    GROUP BY\n",
        "        year_built\n",
        "    ORDER BY\n",
        "        year_built\n",
        "\"\"\"\n",
        "\n",
        "result = spark.sql(query)\n",
        "\n",
        "result.show()\n",
        "\n"
      ]
    },
    {
      "cell_type": "code",
      "execution_count": 19,
      "metadata": {
        "colab": {
          "base_uri": "https://localhost:8080/"
        },
        "id": "Y-Eytz64liDU",
        "outputId": "2593a10e-a89b-414c-d2a0-28c49093ab63"
      },
      "outputs": [
        {
          "name": "stdout",
          "output_type": "stream",
          "text": [
            "+----------+---------+\n",
            "|year_built|avg_price|\n",
            "+----------+---------+\n",
            "|      2010|285010.22|\n",
            "|      2011|276553.81|\n",
            "|      2012|307539.97|\n",
            "|      2013|303676.79|\n",
            "|      2014|298264.72|\n",
            "|      2015|297609.97|\n",
            "|      2016| 293965.1|\n",
            "|      2017|280317.58|\n",
            "+----------+---------+\n",
            "\n"
          ]
        }
      ],
      "source": [
        "# 5. What is the average price of a home for each year the home was built,\n",
        "# that have 3 bedrooms, 3 bathrooms, with two floors,\n",
        "# and are greater than or equal to 2,000 square feet, rounded to two decimal places?\n",
        "\n",
        "\n",
        "query = \"\"\"\n",
        "    SELECT\n",
        "        date_built as year_built,\n",
        "        ROUND(AVG(price), 2) AS avg_price\n",
        "    FROM\n",
        "        home_sales\n",
        "    WHERE\n",
        "        bedrooms = 3\n",
        "    AND bathrooms = 3\n",
        "    AND floors = 2\n",
        "    AND sqft_living >= 2000\n",
        "\n",
        "    GROUP BY\n",
        "        year_built\n",
        "    ORDER BY\n",
        "        year_built\n",
        "\"\"\"\n",
        "\n",
        "result = spark.sql(query)\n",
        "\n",
        "result.show()\n",
        "\n",
        "\n",
        "\n"
      ]
    },
    {
      "cell_type": "code",
      "execution_count": 22,
      "metadata": {
        "colab": {
          "base_uri": "https://localhost:8080/"
        },
        "id": "GUrfgOX1pCRd",
        "outputId": "dd3f14aa-ab1a-4e93-ced5-9001a54a2475"
      },
      "outputs": [
        {
          "name": "stdout",
          "output_type": "stream",
          "text": [
            "+----+----------+\n",
            "|view| avg_price|\n",
            "+----+----------+\n",
            "| 100| 1026669.5|\n",
            "|  99|1061201.42|\n",
            "|  98|1053739.33|\n",
            "|  97|1129040.15|\n",
            "|  96|1017815.92|\n",
            "|  95| 1054325.6|\n",
            "|  94| 1033536.2|\n",
            "|  93|1026006.06|\n",
            "|  92| 970402.55|\n",
            "|  91|1137372.73|\n",
            "|  90|1062654.16|\n",
            "|  89|1107839.15|\n",
            "|  88|1031719.35|\n",
            "|  87| 1072285.2|\n",
            "|  86|1070444.25|\n",
            "|  85|1056336.74|\n",
            "|  84|1117233.13|\n",
            "|  83|1033965.93|\n",
            "|  82| 1063498.0|\n",
            "|  81|1053472.79|\n",
            "+----+----------+\n",
            "only showing top 20 rows\n",
            "\n",
            "--- 1.0526392459869385 seconds ---\n"
          ]
        }
      ],
      "source": [
        "# 6. What is the average price of a home per \"view\" rating, rounded to two decimal places,\n",
        "# having an average home price greater than or equal to $350,000? Order by descending view rating.\n",
        "# Although this is a small dataset, determine the run time for this query.\n",
        "\n",
        "query = \"\"\"\n",
        "    SELECT\n",
        "        view,\n",
        "        ROUND(AVG(price), 2) AS avg_price\n",
        "    FROM\n",
        "        home_sales\n",
        "    GROUP BY\n",
        "        view\n",
        "    HAVING\n",
        "        AVG(price) >= 350000\n",
        "    ORDER BY\n",
        "        view DESC\n",
        "\"\"\"\n",
        "\n",
        "start_time = time.time()\n",
        "\n",
        "result = spark.sql(query)\n",
        "\n",
        "result.show()\n",
        "\n",
        "print(\"--- %s seconds ---\" % (time.time() - start_time))\n"
      ]
    },
    {
      "cell_type": "code",
      "execution_count": 23,
      "metadata": {
        "colab": {
          "base_uri": "https://localhost:8080/"
        },
        "id": "KAhk3ZD2tFy8",
        "outputId": "a79dd1b8-2ef9-42a4-a5ec-9c3b5d0cb0fe"
      },
      "outputs": [
        {
          "data": {
            "text/plain": [
              "DataFrame[id: string, date: date, date_built: int, price: int, bedrooms: int, bathrooms: int, sqft_living: int, sqft_lot: int, floors: int, waterfront: int, view: int]"
            ]
          },
          "execution_count": 23,
          "metadata": {},
          "output_type": "execute_result"
        }
      ],
      "source": [
        "# 7. Cache the the temporary table home_sales.\n",
        "spark.table(\"home_sales\").cache()"
      ]
    },
    {
      "cell_type": "code",
      "execution_count": 24,
      "metadata": {
        "colab": {
          "base_uri": "https://localhost:8080/"
        },
        "id": "4opVhbvxtL-i",
        "outputId": "5583ac2f-854b-4895-9798-1563e5a6ec2a"
      },
      "outputs": [
        {
          "data": {
            "text/plain": [
              "True"
            ]
          },
          "execution_count": 24,
          "metadata": {},
          "output_type": "execute_result"
        }
      ],
      "source": [
        "# 8. Check if the table is cached.\n",
        "spark.catalog.isCached('home_sales')"
      ]
    },
    {
      "cell_type": "code",
      "execution_count": 25,
      "metadata": {
        "colab": {
          "base_uri": "https://localhost:8080/"
        },
        "id": "5GnL46lwTSEk",
        "outputId": "165a155f-d4be-48b3-d06d-1d50b33636ab"
      },
      "outputs": [
        {
          "name": "stdout",
          "output_type": "stream",
          "text": [
            "+----+----------+\n",
            "|view| avg_price|\n",
            "+----+----------+\n",
            "| 100| 1026669.5|\n",
            "|  99|1061201.42|\n",
            "|  98|1053739.33|\n",
            "|  97|1129040.15|\n",
            "|  96|1017815.92|\n",
            "|  95| 1054325.6|\n",
            "|  94| 1033536.2|\n",
            "|  93|1026006.06|\n",
            "|  92| 970402.55|\n",
            "|  91|1137372.73|\n",
            "|  90|1062654.16|\n",
            "|  89|1107839.15|\n",
            "|  88|1031719.35|\n",
            "|  87| 1072285.2|\n",
            "|  86|1070444.25|\n",
            "|  85|1056336.74|\n",
            "|  84|1117233.13|\n",
            "|  83|1033965.93|\n",
            "|  82| 1063498.0|\n",
            "|  81|1053472.79|\n",
            "+----+----------+\n",
            "only showing top 20 rows\n",
            "\n",
            "--- Runtime with cached data: 0.10617733001708984 seconds ---\n"
          ]
        }
      ],
      "source": [
        "# 9. Using the cached data, run the last query above, that calculates\n",
        "# the average price of a home per \"view\" rating, rounded to two decimal places,\n",
        "# having an average home price greater than or equal to $350,000.\n",
        "# Determine the runtime and compare it to the uncached runtime.\n",
        "\n",
        "\n",
        "\n",
        "\n",
        "query = \"\"\"\n",
        "    SELECT\n",
        "        view,\n",
        "        ROUND(AVG(price), 2) AS avg_price\n",
        "    FROM\n",
        "        home_sales\n",
        "    GROUP BY\n",
        "        view\n",
        "    HAVING\n",
        "        AVG(price) >= 350000\n",
        "    ORDER BY\n",
        "        view DESC\n",
        "\"\"\"\n",
        "\n",
        "start_time_cached = time.time()\n",
        "result_cached = spark.sql(query)\n",
        "runtime_cached = time.time() - start_time_cached\n",
        "\n",
        "result_cached.show()\n",
        "\n",
        "print(\"--- Runtime with cached data: %s seconds ---\" % runtime_cached)\n",
        "\n"
      ]
    },
    {
      "cell_type": "code",
      "execution_count": 32,
      "metadata": {
        "id": "Qm12WN9isHBR"
      },
      "outputs": [],
      "source": [
        "# 10. Partition by the \"date_built\" field on the formatted parquet home sales data\n",
        "df.write.partitionBy(\"date_built\").parquet(\"parquet_home_sales\", mode=\"overwrite\")\n"
      ]
    },
    {
      "cell_type": "code",
      "execution_count": 33,
      "metadata": {
        "id": "AZ7BgY61sRqY"
      },
      "outputs": [],
      "source": [
        "# 11. Read the parquet formatted data.\n",
        "p_df=spark.read.parquet('parquet_home_sales')"
      ]
    },
    {
      "cell_type": "code",
      "execution_count": 34,
      "metadata": {
        "id": "J6MJkHfvVcvh"
      },
      "outputs": [],
      "source": [
        "# 12. Create a temporary table for the parquet data.\n",
        "p_df.createOrReplaceTempView('parquet_home_sales')"
      ]
    },
    {
      "cell_type": "code",
      "execution_count": 35,
      "metadata": {
        "colab": {
          "base_uri": "https://localhost:8080/"
        },
        "id": "G_Vhb52rU1Sn",
        "outputId": "f04c4ca7-25d1-47cb-ae48-173d2f0bc605"
      },
      "outputs": [
        {
          "name": "stdout",
          "output_type": "stream",
          "text": [
            "+----+----------+\n",
            "|view| avg_price|\n",
            "+----+----------+\n",
            "| 100| 1026669.5|\n",
            "|  99|1061201.42|\n",
            "|  98|1053739.33|\n",
            "|  97|1129040.15|\n",
            "|  96|1017815.92|\n",
            "|  95| 1054325.6|\n",
            "|  94| 1033536.2|\n",
            "|  93|1026006.06|\n",
            "|  92| 970402.55|\n",
            "|  91|1137372.73|\n",
            "|  90|1062654.16|\n",
            "|  89|1107839.15|\n",
            "|  88|1031719.35|\n",
            "|  87| 1072285.2|\n",
            "|  86|1070444.25|\n",
            "|  85|1056336.74|\n",
            "|  84|1117233.13|\n",
            "|  83|1033965.93|\n",
            "|  82| 1063498.0|\n",
            "|  81|1053472.79|\n",
            "+----+----------+\n",
            "only showing top 20 rows\n",
            "\n",
            "--- Runtime with cached data: 0.06002664566040039 seconds ---\n"
          ]
        }
      ],
      "source": [
        "# 13. Using the parquet DataFrame, run the last query above, that calculates\n",
        "# the average price of a home per \"view\" rating, rounded to two decimal places,\n",
        "# having an average home price greater than or equal to $350,000.\n",
        "# Determine the runtime and compare it to the cached runtime.\n",
        "query = \"\"\"\n",
        "    SELECT\n",
        "        view,\n",
        "        ROUND(AVG(price), 2) AS avg_price\n",
        "    FROM\n",
        "        parquet_home_sales\n",
        "    GROUP BY\n",
        "        view\n",
        "    HAVING\n",
        "        AVG(price) >= 350000\n",
        "    ORDER BY\n",
        "        view DESC\n",
        "\"\"\"\n",
        "\n",
        "start_time_cached = time.time()\n",
        "result_cached = spark.sql(query)\n",
        "runtime_cached = time.time() - start_time_cached\n",
        "\n",
        "result_cached.show()\n",
        "\n",
        "print(\"--- Runtime with cached data: %s seconds ---\" % runtime_cached)"
      ]
    },
    {
      "cell_type": "code",
      "execution_count": 37,
      "metadata": {
        "id": "hjjYzQGjtbq8"
      },
      "outputs": [],
      "source": [
        "# 14. Uncache the home_sales temporary table.\n",
        "spark.catalog.uncacheTable(\"parquet_home_sales\")\n",
        "spark.catalog.uncacheTable(\"home_sales\")\n"
      ]
    },
    {
      "cell_type": "code",
      "execution_count": 39,
      "metadata": {
        "colab": {
          "base_uri": "https://localhost:8080/"
        },
        "id": "Sy9NBvO7tlmm",
        "outputId": "c0df5ffb-6a58-4ba1-9fb2-5667e6cf6156"
      },
      "outputs": [
        {
          "name": "stdout",
          "output_type": "stream",
          "text": [
            "no longer cached.\n",
            "no longer cached.\n"
          ]
        }
      ],
      "source": [
        "# 15. Check if the home_sales is no longer cached\n",
        "\n",
        "is_cached = spark.catalog.isCached(\"home_sales\")\n",
        "\n",
        "if is_cached:\n",
        "    print(\"still cached.\")\n",
        "else:\n",
        "    print(\"no longer cached.\")\n",
        "\n",
        "\n",
        "is_cached = spark.catalog.isCached(\"parquet_home_sales\")\n",
        "\n",
        "if is_cached:\n",
        "    print(\"still cached.\")\n",
        "else:\n",
        "    print(\"no longer cached.\")\n"
      ]
    },
    {
      "cell_type": "code",
      "execution_count": null,
      "metadata": {
        "id": "Si-BNruRUGK3"
      },
      "outputs": [],
      "source": []
    }
  ],
  "metadata": {
    "colab": {
      "provenance": []
    },
    "gpuClass": "standard",
    "kernelspec": {
      "display_name": "Python 3 (ipykernel)",
      "language": "python",
      "name": "python3"
    },
    "language_info": {
      "codemirror_mode": {
        "name": "ipython",
        "version": 3
      },
      "file_extension": ".py",
      "mimetype": "text/x-python",
      "name": "python",
      "nbconvert_exporter": "python",
      "pygments_lexer": "ipython3",
      "version": "3.10.4"
    },
    "nteract": {
      "version": "0.28.0"
    }
  },
  "nbformat": 4,
  "nbformat_minor": 0
}
